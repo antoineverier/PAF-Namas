{
 "cells": [
  {
   "cell_type": "code",
   "execution_count": null,
   "id": "e0b4900f-deed-437f-b888-c40d5ce4b072",
   "metadata": {},
   "outputs": [
    {
     "ename": "SyntaxError",
     "evalue": "invalid syntax (Temp/ipykernel_71140/4533221.py, line 9)",
     "output_type": "error",
     "traceback": [
      "\u001b[1;36m  File \u001b[1;32m\"C:\\Users\\SARAME~1\\AppData\\Local\\Temp/ipykernel_71140/4533221.py\"\u001b[1;36m, line \u001b[1;32m9\u001b[0m\n\u001b[1;33m    x = torch.tensor(imread('352093602_612447477534177_7637670047827116862_n.jpg')).permute(2, 0, 1)[None, ...] / 255.\u001b[0m\n\u001b[1;37m    ^\u001b[0m\n\u001b[1;31mSyntaxError\u001b[0m\u001b[1;31m:\u001b[0m invalid syntax\n"
     ]
    }
   ],
   "source": [
    "import torch\n",
    "import piq\n",
    "from skimage.io import imread\n",
    "\n",
    "\n",
    "@torch.no_grad()\n",
    "def main():\n",
    "    # Read RGB image and it's noisy version\n",
    "    x = torch.tensor(imread('352093602_612447477534177_7637670047827116862_n.jpg')).permute(2, 0, 1)[None, ...] / 255.\n",
    "    y = torch.tensor(imread('git_second.bmp')).permute(2, 0, 1)[None, ...] / 255.\n",
    "\n",
    "    if torch.cuda.is_available():\n",
    "        # Move to GPU to make computaions faster\n",
    "        x = x.cuda()\n",
    "        y = y.cuda()\n",
    "\n",
    "    # To compute BRISQUE score as a measure, use lower case function from the library\n",
    "    brisque_index: torch.Tensor = piq.brisque(x, data_range=1., reduction='none')\n",
    "    # In order to use BRISQUE as a loss function, use corresponding PyTorch module.\n",
    "    # Note: the back propagation is not available using torch==1.5.0.\n",
    "    # Update the environment with latest torch and torchvision.\n",
    "    brisque_loss: torch.Tensor = piq.BRISQUELoss(data_range=1., reduction='none')(x)\n",
    "    print(f\"BRISQUE index: {brisque_index.item():0.4f}, loss: {brisque_loss.item():0.4f}\")\n",
    "\n",
    "    # To compute Content score as a loss function, use corresponding PyTorch module\n",
    "    # By default VGG16 model is used, but any feature extractor model is supported.\n",
    "    # Don't forget to adjust layers names accordingly. Features from different layers can be weighted differently.\n",
    "    # Use weights parameter. See other options in class docstring.\n",
    "    content_loss = piq.ContentLoss(\n",
    "        feature_extractor=\"vgg16\", layers=(\"relu3_3\",), reduction='none')(x, y)\n",
    "    print(f\"ContentLoss: {content_loss.item():0.4f}\")\n",
    "\n",
    "  \n",
    "\n",
    "if __name__ == '__main__':\n",
    "    main()"
   ]
  },
  {
   "cell_type": "code",
   "execution_count": null,
   "id": "23d5dfc0-5e27-4d74-8783-71b07d976cd7",
   "metadata": {},
   "outputs": [],
   "source": []
  }
 ],
 "metadata": {
  "kernelspec": {
   "display_name": "Python 3 (ipykernel)",
   "language": "python",
   "name": "python3"
  },
  "language_info": {
   "codemirror_mode": {
    "name": "ipython",
    "version": 3
   },
   "file_extension": ".py",
   "mimetype": "text/x-python",
   "name": "python",
   "nbconvert_exporter": "python",
   "pygments_lexer": "ipython3",
   "version": "3.9.7"
  }
 },
 "nbformat": 4,
 "nbformat_minor": 5
}
