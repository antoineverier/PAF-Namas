{
  "cells": [
    {
      "cell_type": "code",
      "execution_count": null,
      "metadata": {
        "collapsed": false
      },
      "outputs": [],
      "source": [
        "#PASSAGE D'UNE IMAGE RGB A UNE IMAGE GRISE\n",
        "import matplotlib.pyplot as plt\n",
        "\n",
        "from skimage import data\n",
        "from skimage.color import rgb2gray\n",
        "\n",
        "original = imread(\"C:\\Users\\02bar\\Documents\\TELECOM\\PAF\\Images Pre-processing\\isic13\") \n",
        "grayscale = rgb2gray(original)\n",
        "\n",
        "fig, axes = plt.subplots(1, 2, figsize=(8, 4))\n",
        "ax = axes.ravel()\n",
        "\n",
        "ax[0].imshow(original)\n",
        "ax[0].set_title(\"Original\")\n",
        "ax[1].imshow(grayscale, cmap=plt.cm.gray)\n",
        "ax[1].set_title(\"Grayscale\")\n",
        "\n",
        "fig.tight_layout()\n",
        "plt.show()"
      ]
    }
  ],
  "metadata": {
    "kernelspec": {
      "display_name": "Python 3",
      "language": "python",
      "name": "python3"
    },
    "language_info": {
      "codemirror_mode": {
        "name": "ipython",
        "version": 3
      },
      "file_extension": ".py",
      "mimetype": "text/x-python",
      "name": "python",
      "nbconvert_exporter": "python",
      "pygments_lexer": "ipython3",
      "version": "3.9.16"
    }
  },
  "nbformat": 4,
  "nbformat_minor": 0
}
